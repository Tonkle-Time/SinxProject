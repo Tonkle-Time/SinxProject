{
 "cells": [
  {
   "cell_type": "markdown",
   "id": "413a78c8-8dc6-469b-99a0-de8593ba1a1a",
   "metadata": {},
   "source": [
    "To use Padé approximants for approximating sin (x), first find the Taylor series of sin (x) around x=0, then equate it to a rational function P(x)/Q(x) where P(x) and Q(x) are polynomials with Q(x)'s constant term being 1"
   ]
  }
 ],
 "metadata": {
  "kernelspec": {
   "display_name": "Python [conda env:base] *",
   "language": "python",
   "name": "conda-base-py"
  },
  "language_info": {
   "codemirror_mode": {
    "name": "ipython",
    "version": 3
   },
   "file_extension": ".py",
   "mimetype": "text/x-python",
   "name": "python",
   "nbconvert_exporter": "python",
   "pygments_lexer": "ipython3",
   "version": "3.13.5"
  }
 },
 "nbformat": 4,
 "nbformat_minor": 5
}
